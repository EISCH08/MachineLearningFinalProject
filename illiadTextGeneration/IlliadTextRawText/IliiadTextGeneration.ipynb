{
 "cells": [
  {
   "cell_type": "code",
   "execution_count": 52,
   "metadata": {
    "collapsed": true
   },
   "outputs": [],
   "source": [
    "import numpy\n",
    "import tensorflow as tf\n",
    "from tensorflow.keras.models import Sequential\n",
    "from tensorflow.keras.layers import Dense, Dropout, LSTM\n",
    "from tensorflow.keras.callbacks import ModelCheckpoint\n",
    "from tensorflow.keras.utils import to_categorical\n",
    "import sys"
   ]
  },
  {
   "cell_type": "code",
   "execution_count": 1,
   "metadata": {},
   "outputs": [
    {
     "name": "stdout",
     "output_type": "stream",
     "text": [
      "Total Characters:  517722\n",
      "Total Unique Characters:  54\n"
     ]
    }
   ],
   "source": [
    "filename = \"illiad.txt\"\n",
    "rawText = open(filename).read()\n",
    "rawText = rawText.lower()\n",
    "rawText = rawText[:len(rawText)//2]\n",
    "chars = sorted(list(set(rawText)))\n",
    "charToInt = dict((c,i) for i,c in enumerate(chars))\n",
    "nChars = len(rawText)\n",
    "nUniqueChars = len(chars)\n",
    "print('Total Characters: ', nChars)\n",
    "print('Total Unique Characters: ', nUniqueChars)\n"
   ]
  },
  {
   "cell_type": "code",
   "execution_count": 54,
   "metadata": {},
   "outputs": [
    {
     "name": "stdout",
     "output_type": "stream",
     "text": [
      "Total Patterns:  517622\n",
      "Total Ref Patterns:  517622\n"
     ]
    }
   ],
   "source": [
    "#Detirmines how many chars we consider per step\n",
    "sequenceLength = 100\n",
    "dataX = []\n",
    "dataY = []\n",
    "for i in range(0, nChars - sequenceLength, 1):\n",
    "\tseqIn = rawText[i:i + sequenceLength]\n",
    "\tseqOut = rawText[i + sequenceLength]\n",
    "\tdataX.append([charToInt[char] for char in seqIn])\n",
    "\tdataY.append(charToInt[seqOut])\n",
    "    \n",
    "nPatterns = len(dataX)\n",
    "nRefPatterns = len(dataY)\n",
    "print(\"Total Patterns: \",nPatterns)\n",
    "print(\"Total Ref Patterns: \",nRefPatterns)"
   ]
  },
  {
   "cell_type": "code",
   "execution_count": 55,
   "metadata": {
    "collapsed": true
   },
   "outputs": [],
   "source": [
    "X = numpy.reshape(dataX,(nPatterns, sequenceLength, 1))\n",
    "# normalize\n",
    "X = X / float(nUniqueChars)\n",
    "# one hot encode the output variable\n",
    "Y = to_categorical(dataY)\n"
   ]
  },
  {
   "cell_type": "code",
   "execution_count": 56,
   "metadata": {
    "collapsed": true
   },
   "outputs": [],
   "source": [
    "model = Sequential()\n",
    "model.add(LSTM(256,activation='relu',input_shape =(X.shape[1],X.shape[2])))\n",
    "model.add(Dropout(0.2))\n",
    "model.add(Dense(Y.shape[1], activation='softmax'))\n",
    "model.compile(loss='categorical_crossentropy', optimizer='adam')\n",
    "\n"
   ]
  },
  {
   "cell_type": "code",
   "execution_count": 57,
   "metadata": {
    "collapsed": true
   },
   "outputs": [],
   "source": [
    "weightFile = \"weights-improvement-15-2.5159.hdf5\"\n",
    "model.load_weights(weightFile)\n",
    "model.compile(loss='categorical_crossentropy',optimizer='adam')"
   ]
  },
  {
   "cell_type": "code",
   "execution_count": 58,
   "metadata": {},
   "outputs": [
    {
     "name": "stdout",
     "output_type": "stream",
     "text": [
      "Seed:\n",
      "Once Upon a Time /\n",
      "e the sane tf faee,\n",
      "  the soeee the soeee the soeee th teee th tare,\n",
      "  the soeee the soeee the soeee th teee th tare,\n",
      "  the soeee the soeee the soeee th teee th tare,\n",
      "  the soeee the soeee the soeee th teee th tare,\n",
      "  the soeee the soeee the soeee th teee th tare,\n",
      "  the soeee the soeee the soeee th teee th tare,\n",
      "  the soeee the soeee the soeee th teee th tare,\n",
      "  the soeee the soeee the soeee th teee th tare,\n",
      "  the soeee the soeee the soeee th teee th tare,\n",
      "  the soeee the soeee the soeee th teee th tare,\n",
      "  the soeee the soeee the soeee th teee th tare,\n",
      "  the soeee the soeee the soeee th teee th tare,\n",
      "  the soeee the soeee the soeee th teee th tare,\n",
      "  the soeee the soeee the soeee th teee th tare,\n",
      "  the soeee the soeee the soeee th teee th tare,\n",
      "  the soeee the soeee the soeee th teee th tare,\n",
      "  the soeee the soeee the soeee th teee th tare,\n",
      "  the soeee the soeee the soeee th teee th tare,\n",
      "  the soeee the soeee the soeee th teee th tare,\n",
      "  the soeee the soeee the soeee th teee th tare,\n",
      "\n",
      "Done.\n"
     ]
    }
   ],
   "source": [
    "\n",
    "intToChar = dict((i, c) for i, c in enumerate(chars))\n",
    "\n",
    "start = numpy.random.randint(0, len(dataX)-1)\n",
    "pattern = dataX[start]\n",
    "print(\"Seed:\")\n",
    "print (\"Once Upon a Time\",'/')\n",
    "# generate characters\n",
    "for i in range(1000):\n",
    "    x = numpy.reshape(pattern, (1, len(pattern), 1))\n",
    "    x = x / float(nUniqueChars)\n",
    "    prediction = model.predict(x, verbose=0)\n",
    "    \n",
    "    index = numpy.argmax(prediction)\n",
    "    result = intToChar[index]\n",
    "    seq_in = [intToChar[value] for value in pattern]\n",
    "    sys.stdout.write(result)\n",
    "    pattern.append(index)\n",
    "    pattern = pattern[1:len(pattern)]\n",
    "print (\"\\nDone.\")"
   ]
  },
  {
   "cell_type": "code",
   "execution_count": null,
   "metadata": {
    "collapsed": true
   },
   "outputs": [],
   "source": []
  }
 ],
 "metadata": {
  "kernelspec": {
   "display_name": "Python 3",
   "language": "python",
   "name": "python3"
  },
  "language_info": {
   "codemirror_mode": {
    "name": "ipython",
    "version": 3
   },
   "file_extension": ".py",
   "mimetype": "text/x-python",
   "name": "python",
   "nbconvert_exporter": "python",
   "pygments_lexer": "ipython3",
   "version": "3.6.3"
  }
 },
 "nbformat": 4,
 "nbformat_minor": 2
}
