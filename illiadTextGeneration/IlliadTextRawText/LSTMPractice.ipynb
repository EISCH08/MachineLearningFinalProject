{
 "cells": [
  {
   "cell_type": "code",
   "execution_count": 7,
   "metadata": {},
   "outputs": [
    {
     "name": "stdout",
     "output_type": "stream",
     "text": [
      "(60000, 28, 28)\n",
      "(28, 28)\n"
     ]
    }
   ],
   "source": [
    "import tensorflow as tf\n",
    "from tensorflow.keras.models import Sequential\n",
    "from tensorflow.keras.layers import Dense, Dropout, LSTM\n",
    "\n",
    "mnist = tf.keras.datasets.mnist\n",
    "(xTrain,yTrain),(xTest,yTest) = mnist.load_data()\n",
    "#normalize data\n",
    "xTrain = tf.keras.utils.normalize(xTrain, axis=1)\n",
    "xTest = tf.keras.utils.normalize(xTest, axis=1)\n",
    "print(xTrain.shape)\n",
    "print(xTrain[0].shape)"
   ]
  },
  {
   "cell_type": "code",
   "execution_count": 11,
   "metadata": {},
   "outputs": [
    {
     "name": "stdout",
     "output_type": "stream",
     "text": [
      "Train on 60000 samples, validate on 10000 samples\n",
      "Epoch 1/3\n",
      "60000/60000 [==============================] - 190s 3ms/sample - loss: 0.7900 - accuracy: 0.7355 - val_loss: 0.2674 - val_accuracy: 0.9170\n",
      "Epoch 2/3\n",
      "60000/60000 [==============================] - 197s 3ms/sample - loss: 0.2076 - accuracy: 0.9423 - val_loss: 0.1212 - val_accuracy: 0.9635\n",
      "Epoch 3/3\n",
      "60000/60000 [==============================] - 192s 3ms/sample - loss: 0.1375 - accuracy: 0.9633 - val_loss: 0.1036 - val_accuracy: 0.9682\n"
     ]
    },
    {
     "data": {
      "text/plain": [
       "<tensorflow.python.keras.callbacks.History at 0x1827b4bf60>"
      ]
     },
     "execution_count": 11,
     "metadata": {},
     "output_type": "execute_result"
    }
   ],
   "source": [
    "model = Sequential()\n",
    "\n",
    "model.add(LSTM(128, input_shape=(xTrain.shape[1:]),activation='relu',return_sequences=True))\n",
    "model.add(Dropout(0.2))\n",
    "\n",
    "model.add(LSTM(128,activation='relu'))\n",
    "model.add(Dropout(.2))\n",
    "\n",
    "model.add(Dense(32,activation='relu'))\n",
    "model.add(Dropout(0.2))\n",
    "\n",
    "model.add(Dense(10,activation='softmax'))\n",
    "\n",
    "opt= tf.keras.optimizers.Adam(lr=1e-3,decay=1e-5)\n",
    "\n",
    "model.compile(loss='sparse_categorical_crossentropy',\n",
    "             optimizer = opt,\n",
    "             metrics=['accuracy'])\n",
    "\n",
    "model.fit(xTrain,yTrain,epochs=3, validation_data = (xTest,yTest))"
   ]
  },
  {
   "cell_type": "code",
   "execution_count": 12,
   "metadata": {},
   "outputs": [
    {
     "name": "stdout",
     "output_type": "stream",
     "text": [
      "10000/10000 [==============================] - 4s 444us/sample - loss: 0.1036 - accuracy: 0.9682\n",
      "0.10356248709475621 0.9682\n"
     ]
    }
   ],
   "source": [
    "valLoss,valAcc = model.evaluate(xTest,yTest)\n",
    "print(valLoss,valAcc)"
   ]
  },
  {
   "cell_type": "code",
   "execution_count": null,
   "metadata": {
    "collapsed": true
   },
   "outputs": [],
   "source": []
  },
  {
   "cell_type": "code",
   "execution_count": null,
   "metadata": {
    "collapsed": true
   },
   "outputs": [],
   "source": []
  }
 ],
 "metadata": {
  "kernelspec": {
   "display_name": "Python 3",
   "language": "python",
   "name": "python3"
  },
  "language_info": {
   "codemirror_mode": {
    "name": "ipython",
    "version": 3
   },
   "file_extension": ".py",
   "mimetype": "text/x-python",
   "name": "python",
   "nbconvert_exporter": "python",
   "pygments_lexer": "ipython3",
   "version": "3.6.3"
  }
 },
 "nbformat": 4,
 "nbformat_minor": 2
}
